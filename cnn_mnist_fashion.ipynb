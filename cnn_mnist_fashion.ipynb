{
 "cells": [
  {
   "cell_type": "code",
   "metadata": {
    "ExecuteTime": {
     "end_time": "2024-07-07T15:36:46.025216Z",
     "start_time": "2024-07-07T15:36:40.640895Z"
    }
   },
   "source": [
    "import numpy as np # linear algebra\n",
    "import pandas as pd # data processing, CSV file I/O (e.g. pd.read_csv)\n",
    "from tensorflow.keras.models import Sequential\n",
    "from PIL import Image\n",
    "from sklearn.preprocessing import OneHotEncoder\n",
    "from tensorflow.keras.layers import Conv2D, MaxPooling2D, Dense, Flatten\n",
    "from IPython.display import display\n",
    "\n",
    "x_train = pd.read_csv(\"data/fashion-mnist_train.csv\")\n",
    "x_test = pd.read_csv(\"data/fashion-mnist_test.csv\")\n",
    "\n",
    "y_train_labels = x_train['label']\n",
    "y_test_labels = x_test['label']\n",
    "\n",
    "x_train.drop([\"label\"], axis=1, inplace=True)\n",
    "x_test.drop([\"label\"], axis=1, inplace=True)\n",
    "\n",
    "\n",
    "img_array = np.array(x_train.iloc[3].values, dtype=np.uint8)\n",
    "img_reshape = img_array.reshape((28,28))\n",
    "image = Image.fromarray(img_reshape)\n",
    "display(image)"
   ],
   "outputs": [
    {
     "data": {
      "text/plain": [
       "<PIL.Image.Image image mode=L size=28x28>"
      ],
      "image/png": "[encoded data removed]",
      "image/jpeg": "[encoded data removed]"
     },
     "metadata": {},
     "output_type": "display_data"
    }
   ],
   "execution_count": 43
  },
  {
   "metadata": {},
   "cell_type": "markdown",
   "source": "## Data preparation"
  },
  {
   "metadata": {
    "ExecuteTime": {
     "end_time": "2024-07-07T15:36:50.218718Z",
     "start_time": "2024-07-07T15:36:48.657849Z"
    }
   },
   "cell_type": "code",
   "source": [
    "# Label encoding\n",
    "encoder = OneHotEncoder(sparse_output=False)\n",
    "y_train = encoder.fit_transform(y_train_labels.to_frame())\n",
    "y_test = encoder.fit_transform(y_test_labels.to_frame())\n",
    "\n",
    "# Data normalization\n",
    "x_train = (x_train / 255) - 0.5\n",
    "x_test  = (x_test / 255) - 0.5\n",
    "\n",
    "'''\n",
    "28, 28, 1 specifies the dimensions of each image: height, width, and channels (1 for grayscale).\n",
    "\n",
    "-1 in the reshape() function automatically calculates the batch size based on the total number of samples in x_train\n",
    "'''\n",
    "\n",
    "# Reshape the image\n",
    "x_train = x_train.values.reshape(-1, 28, 28, 1) \n",
    "x_test = x_test.values.reshape(-1, 28, 28, 1) \n",
    "\n",
    "# x_test = np.expand_dims(x_test, axis=-3)"
   ],
   "outputs": [],
   "execution_count": 44
  },
  {
   "metadata": {},
   "cell_type": "markdown",
   "source": "## Train"
  },
  {
   "metadata": {
    "ExecuteTime": {
     "end_time": "2024-07-07T15:37:49.579224Z",
     "start_time": "2024-07-07T15:36:54.605693Z"
    }
   },
   "cell_type": "code",
   "source": [
    "conv_num_filters = 8\n",
    "conv_filter_size = 3\n",
    "pool_size = 2\n",
    "\n",
    "print(x_train.shape)\n",
    "model = Sequential([\n",
    "    Conv2D(conv_num_filters,conv_filter_size),\n",
    "    MaxPooling2D(pool_size=pool_size),\n",
    "    Flatten(),\n",
    "    Dense(10, activation='softmax') # 10 neurons = 10 classes\n",
    "])\n",
    "\n",
    "model.compile(loss='categorical_crossentropy',optimizer='adam',metrics=['accuracy'])\n",
    "\n",
    "model.fit(\n",
    "    x_train,\n",
    "    y_train,\n",
    "    epochs=3,\n",
    "    validation_data=(x_test,y_test),\n",
    "    \n",
    ")"
   ],
   "outputs": [
    {
     "name": "stdout",
     "output_type": "stream",
     "text": [
      "(60000, 28, 28, 1)\n",
      "Epoch 1/3\n",
      "\u001B[1m1875/1875\u001B[0m \u001B[32m━━━━━━━━━━━━━━━━━━━━\u001B[0m\u001B[37m\u001B[0m \u001B[1m20s\u001B[0m 9ms/step - accuracy: 0.7711 - loss: 0.6549 - val_accuracy: 0.8649 - val_loss: 0.3955\n",
      "Epoch 2/3\n",
      "\u001B[1m1875/1875\u001B[0m \u001B[32m━━━━━━━━━━━━━━━━━━━━\u001B[0m\u001B[37m\u001B[0m \u001B[1m16s\u001B[0m 8ms/step - accuracy: 0.8669 - loss: 0.3824 - val_accuracy: 0.8780 - val_loss: 0.3619\n",
      "Epoch 3/3\n",
      "\u001B[1m1875/1875\u001B[0m \u001B[32m━━━━━━━━━━━━━━━━━━━━\u001B[0m\u001B[37m\u001B[0m \u001B[1m16s\u001B[0m 9ms/step - accuracy: 0.8791 - loss: 0.3480 - val_accuracy: 0.8809 - val_loss: 0.3410\n"
     ]
    },
    {
     "data": {
      "text/plain": [
       "<keras.src.callbacks.history.History at 0x734d75b1eed0>"
      ]
     },
     "execution_count": 45,
     "metadata": {},
     "output_type": "execute_result"
    }
   ],
   "execution_count": 45
  },
  {
   "metadata": {},
   "cell_type": "code",
   "outputs": [],
   "execution_count": null,
   "source": ""
  }
 ],
 "metadata": {
  "language_info": {
   "name": "python"
  },
  "kernelspec": {
   "name": "python3",
   "language": "python",
   "display_name": "Python 3 (ipykernel)"
  }
 },
 "nbformat": 4,
 "nbformat_minor": 2
}
