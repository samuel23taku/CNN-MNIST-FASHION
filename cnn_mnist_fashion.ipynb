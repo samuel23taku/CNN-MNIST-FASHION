{
 "cells": [
  {
   "cell_type": "code",
   "execution_count": 1,
   "metadata": {
    "jupyter": {
     "is_executing": true
    }
   },
   "outputs": [
    {
     "name": "stderr",
     "output_type": "stream",
     "text": [
      "2024-07-08 23:11:09.203124: I tensorflow/core/util/port.cc:113] oneDNN custom operations are on. You may see slightly different numerical results due to floating-point round-off errors from different computation orders. To turn them off, set the environment variable `TF_ENABLE_ONEDNN_OPTS=0`.\n",
      "2024-07-08 23:11:09.220838: I external/local_tsl/tsl/cuda/cudart_stub.cc:32] Could not find cuda drivers on your machine, GPU will not be used.\n",
      "2024-07-08 23:11:09.356843: I external/local_tsl/tsl/cuda/cudart_stub.cc:32] Could not find cuda drivers on your machine, GPU will not be used.\n",
      "2024-07-08 23:11:09.528177: E external/local_xla/xla/stream_executor/cuda/cuda_fft.cc:479] Unable to register cuFFT factory: Attempting to register factory for plugin cuFFT when one has already been registered\n",
      "2024-07-08 23:11:09.691629: E external/local_xla/xla/stream_executor/cuda/cuda_dnn.cc:10575] Unable to register cuDNN factory: Attempting to register factory for plugin cuDNN when one has already been registered\n",
      "2024-07-08 23:11:09.692755: E external/local_xla/xla/stream_executor/cuda/cuda_blas.cc:1442] Unable to register cuBLAS factory: Attempting to register factory for plugin cuBLAS when one has already been registered\n",
      "2024-07-08 23:11:09.916466: I tensorflow/core/platform/cpu_feature_guard.cc:210] This TensorFlow binary is optimized to use available CPU instructions in performance-critical operations.\n",
      "To enable the following instructions: AVX2 AVX512F AVX512_VNNI FMA, in other operations, rebuild TensorFlow with the appropriate compiler flags.\n",
      "2024-07-08 23:11:12.060718: W tensorflow/compiler/tf2tensorrt/utils/py_utils.cc:38] TF-TRT Warning: Could not find TensorRT\n"
     ]
    },
    {
     "data": {
      "image/jpeg": "[encoded data removed]",
      "image/png": "[encoded data removed]",
      "text/plain": [
       "<PIL.Image.Image image mode=L size=28x28>"
      ]
     },
     "metadata": {},
     "output_type": "display_data"
    }
   ],
   "source": [
    "import numpy as np # linear algebra\n",
    "import pandas as pd # data processing, CSV file I/O (e.g. pd.read_csv)\n",
    "from tensorflow.keras.models import Sequential\n",
    "from PIL import Image\n",
    "from sklearn.preprocessing import OneHotEncoder\n",
    "from tensorflow.keras.layers import Conv2D, MaxPooling2D, Dense, Flatten\n",
    "from IPython.display import display\n",
    "\n",
    "x_train = pd.read_csv(\"data/fashion-mnist_train.csv\")\n",
    "x_test = pd.read_csv(\"data/fashion-mnist_test.csv\")\n",
    "\n",
    "y_train_labels = x_train['label']\n",
    "y_test_labels = x_test['label']\n",
    "\n",
    "x_train.drop([\"label\"], axis=1, inplace=True)\n",
    "x_test.drop([\"label\"], axis=1, inplace=True)\n",
    "\n",
    "\n",
    "img_array = np.array(x_train.iloc[3].values, dtype=np.uint8)\n",
    "img_reshape = img_array.reshape((28,28))\n",
    "image = Image.fromarray(img_reshape)\n",
    "display(image)"
   ]
  },
  {
   "cell_type": "markdown",
   "metadata": {},
   "source": [
    "## Data preparation"
   ]
  },
  {
   "cell_type": "code",
   "execution_count": 2,
   "metadata": {
    "jupyter": {
     "is_executing": true
    }
   },
   "outputs": [],
   "source": [
    "# Label encoding\n",
    "encoder = OneHotEncoder(sparse_output=False)\n",
    "y_train = encoder.fit_transform(y_train_labels.to_frame())\n",
    "y_test = encoder.fit_transform(y_test_labels.to_frame())\n",
    "\n",
    "# Data normalization\n",
    "x_train = (x_train / 255) - 0.5\n",
    "x_test  = (x_test / 255) - 0.5\n",
    "\n",
    "'''\n",
    "28, 28, 1 specifies the dimensions of each image: height, width, and channels (1 for grayscale).\n",
    "\n",
    "-1 in the reshape() function automatically calculates the batch size based on the total number of samples in x_train\n",
    "'''\n",
    "\n",
    "# Reshape the image\n",
    "x_train = x_train.values.reshape(-1, 28, 28, 1) \n",
    "x_test = x_test.values.reshape(-1, 28, 28, 1) \n",
    "\n",
    "# x_test = np.expand_dims(x_test, axis=-3)"
   ]
  },
  {
   "cell_type": "markdown",
   "metadata": {},
   "source": [
    "## Train"
   ]
  },
  {
   "cell_type": "code",
   "execution_count": 4,
   "metadata": {
    "ExecuteTime": {
     "end_time": "2024-07-07T19:14:53.600500Z",
     "start_time": "2024-07-07T19:13:56.202872Z"
    }
   },
   "outputs": [
    {
     "name": "stdout",
     "output_type": "stream",
     "text": [
      "(60000, 28, 28, 1)\n",
      "Epoch 1/6\n",
      "\u001b[1m1317/1875\u001b[0m \u001b[32m━━━━━━━━━━━━━━\u001b[0m\u001b[37m━━━━━━\u001b[0m \u001b[1m2s\u001b[0m 4ms/step - accuracy: 0.6664 - loss: 0.9121"
     ]
    }
   ],
   "source": [
    "conv_num_filters = 8\n",
    "conv_filter_size = 3\n",
    "pool_size = 2\n",
    "\n",
    "print(x_train.shape)\n",
    "model = Sequential([\n",
    "    Conv2D(conv_num_filters,conv_filter_size),\n",
    "    Conv2D(conv_num_filters,conv_filter_size),\n",
    "    MaxPooling2D(pool_size=pool_size),\n",
    "    Flatten(),\n",
    "    Dense(12, activation='relu'),\n",
    "    Dense(12, activation='relu'),\n",
    "    Dense(10, activation='softmax') # 10 neurons = 10 oufits\n",
    "])\n",
    "\n",
    "model.compile(loss='categorical_crossentropy',optimizer='adam',metrics=['accuracy'])\n",
    "\n",
    "model.fit(\n",
    "    x_train,\n",
    "    y_train,\n",
    "    epochs=6,\n",
    "    validation_data=(x_test,y_test),\n",
    "    \n",
    ")"
   ]
  },
  {
   "cell_type": "code",
   "execution_count": null,
   "metadata": {},
   "outputs": [],
   "source": []
  }
 ],
 "metadata": {
  "kernelspec": {
   "display_name": "Python 3 (ipykernel)",
   "language": "python",
   "name": "python3"
  },
  "language_info": {
   "codemirror_mode": {
    "name": "ipython",
    "version": 3
   },
   "file_extension": ".py",
   "mimetype": "text/x-python",
   "name": "python",
   "nbconvert_exporter": "python",
   "pygments_lexer": "ipython3",
   "version": "3.12.4"
  }
 },
 "nbformat": 4,
 "nbformat_minor": 2
}
